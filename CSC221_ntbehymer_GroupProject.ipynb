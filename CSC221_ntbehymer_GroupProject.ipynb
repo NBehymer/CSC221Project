{
 "cells": [
  {
   "cell_type": "markdown",
   "id": "335aa57a",
   "metadata": {},
   "source": [
    "# CSC221 Group Project - Nathaniel Behymer"
   ]
  },
  {
   "cell_type": "code",
   "execution_count": 20,
   "id": "210dedec",
   "metadata": {},
   "outputs": [],
   "source": [
    "import csv\n",
    "import urllib.request\n",
    "import ssl\n",
    "ssl._create_default_https_context = ssl._create_unverified_context\n",
    "\n",
    "url = \"https://www.imdb.com/chart/toptv/?ref_=nv_tvv_250\"\n",
    "page = urllib.request.urlopen(url)\n",
    "\n",
    "from bs4 import BeautifulSoup\n",
    "soup = BeautifulSoup(page, \"lxml\")"
   ]
  },
  {
   "cell_type": "markdown",
   "id": "80583d0e",
   "metadata": {},
   "source": [
    "## Code (Scrapes IMDb's Top 250 Rated TV Shows)"
   ]
  },
  {
   "cell_type": "code",
   "execution_count": 36,
   "id": "83d772d3",
   "metadata": {},
   "outputs": [],
   "source": [
    "sortable_table = soup.find_all('tbody', class_='lister-list')"
   ]
  },
  {
   "cell_type": "code",
   "execution_count": 40,
   "id": "20bd7eb4",
   "metadata": {},
   "outputs": [],
   "source": [
    "# Creating lists for collumns\n",
    "rank = []\n",
    "title = []\n",
    "rating = []\n",
    "\n",
    "r = 1\n",
    "for row in sortable_table[0].findAll('tr'):\n",
    "    # Iterates on rank through addition, as the page is already in order\n",
    "    rank.append(r)\n",
    "    # Scrapes for the title of the show\n",
    "    title.append(row.find_all('td')[1].find('a').next_element)\n",
    "    # Scrapes for the rating of the show\n",
    "    rating.append(row.find_all('td')[2].find('strong').next_element)\n",
    "    r += 1"
   ]
  },
  {
   "cell_type": "code",
   "execution_count": 42,
   "id": "59a4ac3b",
   "metadata": {},
   "outputs": [
    {
     "data": {
      "text/html": [
       "<div>\n",
       "<style scoped>\n",
       "    .dataframe tbody tr th:only-of-type {\n",
       "        vertical-align: middle;\n",
       "    }\n",
       "\n",
       "    .dataframe tbody tr th {\n",
       "        vertical-align: top;\n",
       "    }\n",
       "\n",
       "    .dataframe thead th {\n",
       "        text-align: right;\n",
       "    }\n",
       "</style>\n",
       "<table border=\"1\" class=\"dataframe\">\n",
       "  <thead>\n",
       "    <tr style=\"text-align: right;\">\n",
       "      <th></th>\n",
       "      <th>Rank</th>\n",
       "      <th>Title</th>\n",
       "      <th>Rating</th>\n",
       "    </tr>\n",
       "  </thead>\n",
       "  <tbody>\n",
       "    <tr>\n",
       "      <th>0</th>\n",
       "      <td>1</td>\n",
       "      <td>Planet Earth II</td>\n",
       "      <td>9.5</td>\n",
       "    </tr>\n",
       "    <tr>\n",
       "      <th>1</th>\n",
       "      <td>2</td>\n",
       "      <td>Planet Earth</td>\n",
       "      <td>9.4</td>\n",
       "    </tr>\n",
       "    <tr>\n",
       "      <th>2</th>\n",
       "      <td>3</td>\n",
       "      <td>Breaking Bad</td>\n",
       "      <td>9.4</td>\n",
       "    </tr>\n",
       "    <tr>\n",
       "      <th>3</th>\n",
       "      <td>4</td>\n",
       "      <td>Band of Brothers</td>\n",
       "      <td>9.4</td>\n",
       "    </tr>\n",
       "    <tr>\n",
       "      <th>4</th>\n",
       "      <td>5</td>\n",
       "      <td>Chernobyl</td>\n",
       "      <td>9.3</td>\n",
       "    </tr>\n",
       "    <tr>\n",
       "      <th>...</th>\n",
       "      <td>...</td>\n",
       "      <td>...</td>\n",
       "      <td>...</td>\n",
       "    </tr>\n",
       "    <tr>\n",
       "      <th>245</th>\n",
       "      <td>246</td>\n",
       "      <td>Garth Marenghi's Darkplace</td>\n",
       "      <td>8.4</td>\n",
       "    </tr>\n",
       "    <tr>\n",
       "      <th>246</th>\n",
       "      <td>247</td>\n",
       "      <td>Avrupa Yakasi</td>\n",
       "      <td>8.4</td>\n",
       "    </tr>\n",
       "    <tr>\n",
       "      <th>247</th>\n",
       "      <td>248</td>\n",
       "      <td>Guardian: The Lonely and Great God</td>\n",
       "      <td>8.4</td>\n",
       "    </tr>\n",
       "    <tr>\n",
       "      <th>248</th>\n",
       "      <td>249</td>\n",
       "      <td>Normal People</td>\n",
       "      <td>8.4</td>\n",
       "    </tr>\n",
       "    <tr>\n",
       "      <th>249</th>\n",
       "      <td>250</td>\n",
       "      <td>Special OPS</td>\n",
       "      <td>8.4</td>\n",
       "    </tr>\n",
       "  </tbody>\n",
       "</table>\n",
       "<p>250 rows × 3 columns</p>\n",
       "</div>"
      ],
      "text/plain": [
       "     Rank                               Title Rating\n",
       "0       1                     Planet Earth II    9.5\n",
       "1       2                        Planet Earth    9.4\n",
       "2       3                        Breaking Bad    9.4\n",
       "3       4                    Band of Brothers    9.4\n",
       "4       5                           Chernobyl    9.3\n",
       "..    ...                                 ...    ...\n",
       "245   246          Garth Marenghi's Darkplace    8.4\n",
       "246   247                       Avrupa Yakasi    8.4\n",
       "247   248  Guardian: The Lonely and Great God    8.4\n",
       "248   249                       Normal People    8.4\n",
       "249   250                         Special OPS    8.4\n",
       "\n",
       "[250 rows x 3 columns]"
      ]
     },
     "execution_count": 42,
     "metadata": {},
     "output_type": "execute_result"
    }
   ],
   "source": [
    "# Testing with pandas\n",
    "import pandas as pd\n",
    "df=pd.DataFrame(rank,columns=['Rank'])\n",
    "df['Title']=title\n",
    "df['Rating']=rating\n",
    "df"
   ]
  },
  {
   "cell_type": "code",
   "execution_count": 43,
   "id": "dde1cafc",
   "metadata": {},
   "outputs": [],
   "source": [
    "# Exporting to CSV\n",
    "df.to_csv('CSC221_webscrape_data.csv')"
   ]
  },
  {
   "cell_type": "code",
   "execution_count": null,
   "id": "6a318620",
   "metadata": {},
   "outputs": [],
   "source": []
  }
 ],
 "metadata": {
  "kernelspec": {
   "display_name": "Python 3",
   "language": "python",
   "name": "python3"
  },
  "language_info": {
   "codemirror_mode": {
    "name": "ipython",
    "version": 3
   },
   "file_extension": ".py",
   "mimetype": "text/x-python",
   "name": "python",
   "nbconvert_exporter": "python",
   "pygments_lexer": "ipython3",
   "version": "3.8.8"
  }
 },
 "nbformat": 4,
 "nbformat_minor": 5
}
